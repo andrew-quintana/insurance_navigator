{
  "cells": [
    {
      "cell_type": "raw",
      "metadata": {
        "vscode": {
          "languageId": "raw"
        }
      },
      "source": [
        "# Vector Retrieval Unit Tests\n",
        "\n",
        "This notebook contains unit tests to verify and debug the vector retrieval functionality.\n"
      ]
    },
    {
      "cell_type": "code",
      "execution_count": null,
      "metadata": {},
      "outputs": [],
      "source": [
        "# Setup: Import dependencies\n",
        "import asyncio\n",
        "import sys\n",
        "import os\n",
        "from typing import List, Dict, Any\n",
        "from dataclasses import dataclass\n",
        "import unittest\n",
        "from unittest.mock import Mock, patch\n",
        "\n",
        "# Add project root to path\n",
        "project_root = os.path.abspath(os.path.join(os.getcwd(), '../..'))\n",
        "if project_root not in sys.path:\n",
        "    sys.path.insert(0, project_root)\n",
        "\n",
        "from agents.common.vector_retrieval_tool import VectorRetrievalTool, VectorFilter\n",
        "from db.services.encryption_service import EncryptionServiceFactory\n",
        "from db.services.db_pool import get_db_pool\n"
      ]
    }
  ],
  "metadata": {
    "language_info": {
      "name": "python"
    }
  },
  "nbformat": 4,
  "nbformat_minor": 2
}
