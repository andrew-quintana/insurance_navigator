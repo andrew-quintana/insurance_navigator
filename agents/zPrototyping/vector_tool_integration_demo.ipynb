{
  "cells": [
    {
      "cell_type": "markdown",
      "metadata": {
        "vscode": {
          "languageId": "raw"
        }
      },
      "source": [
        "# Vector Tool Integration Demo\n",
        "\n",
        "This notebook demonstrates how to integrate the vector retrieval tool with agents for document-aware responses.\n",
        "\n",
        "## 🎯 What We'll Demonstrate\n",
        "\n",
        "1. **Vector Retrieval Tool Setup** - Connect to Supabase and retrieve document vectors\n",
        "2. **Document-Aware Agent Creation** - Build agents that use vector context\n",
        "3. **Practical Examples** - Healthcare scenarios with real document context\n",
        "4. **Performance Patterns** - Efficient vector search and content extraction\n"
      ]
    },
    {
      "cell_type": "code",
      "execution_count": 1,
      "metadata": {},
      "outputs": [
        {
          "name": "stdout",
          "output_type": "stream",
          "text": [
            "🔧 Using local database: postgresql://aq_home@[host]\n",
            "🔧 Vector Tool Integration Demo Setup Complete\n"
          ]
        }
      ],
      "source": [
        "# Setup and imports\n",
        "import os\n",
        "import sys\n",
        "import json\n",
        "import logging\n",
        "from pathlib import Path\n",
        "from typing import List, Dict, Any, Optional\n",
        "from pydantic import BaseModel, Field\n",
        "\n",
        "# Add project root to path\n",
        "project_root = Path('.').resolve().parent.parent\n",
        "sys.path.insert(0, str(project_root))\n",
        "\n",
        "# Import our utilities and vector tool\n",
        "from langgraph_utils import create_agent, ExampleAgentOutput\n",
        "from agents.common.vector_retrieval_tool import (\n",
        "    VectorRetrievalTool, \n",
        "    VectorFilter, \n",
        "    VectorResult,\n",
        "    get_document_vectors,\n",
        "    get_document_text\n",
        ")\n",
        "\n",
        "# Setup logging\n",
        "logging.basicConfig(level=logging.INFO, format='%(asctime)s - %(levelname)s - %(message)s')\n",
        "logger = logging.getLogger(__name__)\n",
        "\n",
        "print(\"🔧 Vector Tool Integration Demo Setup Complete\")\n"
      ]
    },
    {
      "cell_type": "markdown",
      "metadata": {
        "vscode": {
          "languageId": "raw"
        }
      },
      "source": [
        "## 1. 🔍 Vector Tool Basic Usage\n"
      ]
    },
    {
      "cell_type": "code",
      "execution_count": 2,
      "metadata": {},
      "outputs": [
        {
          "name": "stdout",
          "output_type": "stream",
          "text": [
            "=== 🔍 Vector Tool Basic Usage ===\n",
            "✅ Vector tool initialized with Supabase connection\n",
            "📋 Using test data:\n",
            "   User ID: d64bfbbe-ff7f-4b51-b220-a0fa20756d9d\n",
            "   Document ID: d64bfbbe-ff7f-4b51-b220-a0fa20756d9d\n"
          ]
        }
      ],
      "source": [
        "# 1.1 Initialize vector tool with Supabase connection\n",
        "print(\"=== 🔍 Vector Tool Basic Usage ===\")\n",
        "\n",
        "# Create vector tool instance with Supabase connection\n",
        "vector_tool = VectorRetrievalTool(force_supabase=True)\n",
        "print(\"✅ Vector tool initialized with Supabase connection\")\n",
        "\n",
        "# Test data from our successful Supabase test\n",
        "test_user_id = \"d64bfbbe-ff7f-4b51-b220-a0fa20756d9d\"\n",
        "test_document_id = \"d64bfbbe-ff7f-4b51-b220-a0fa20756d9d\"\n",
        "\n",
        "print(f\"📋 Using test data:\")\n",
        "print(f\"   User ID: {test_user_id}\")\n",
        "print(f\"   Document ID: {test_document_id}\")\n"
      ]
    },
    {
      "cell_type": "code",
      "execution_count": 4,
      "metadata": {},
      "outputs": [
        {
          "name": "stderr",
          "output_type": "stream",
          "text": [
            "2025-06-23 18:42:56,570 - INFO - Executing query: \n",
            "                SELECT \n",
            "                    id,\n",
            "                    encrypted_chunk_text,\n",
            "                    encrypted_chunk_metadata,\n",
            "                    content_embedding,\n",
            "                    chunk_index,\n",
            "                    document_source_type,\n",
            "                    user_id,\n",
            "                    document_record_id,\n",
            "                    regulatory_document_id,\n",
            "                    encryption_key_id\n",
            "                FROM document_vectors\n",
            "                WHERE is_active = $1 AND user_id = $2 AND document_id = $3\n",
            "                ORDER BY chunk_index ASC\n",
            "                LIMIT $4\n",
            "            \n",
            "2025-06-23 18:42:56,571 - INFO - With parameters: [True, UUID('d64bfbbe-ff7f-4b51-b220-a0fa20756d9d'), UUID('d64bfbbe-ff7f-4b51-b220-a0fa20756d9d'), 1000]\n"
          ]
        },
        {
          "name": "stdout",
          "output_type": "stream",
          "text": [
            "\n",
            "🔍 Retrieving document vectors from Supabase...\n"
          ]
        },
        {
          "name": "stderr",
          "output_type": "stream",
          "text": [
            "2025-06-23 18:42:57,904 - INFO - Retrieved 187 vector results\n"
          ]
        },
        {
          "name": "stdout",
          "output_type": "stream",
          "text": [
            "✅ Retrieved 187 vector chunks\n",
            "📊 Vector dimensions: 19232\n",
            "📄 First chunk preview:\n",
            "   Chunk index: 0\n",
            "   Content: [Encrypted content]...\n"
          ]
        }
      ],
      "source": [
        "# 1.2 Retrieve vectors using the tool\n",
        "print(\"\\n🔍 Retrieving document vectors from Supabase...\")\n",
        "\n",
        "try:\n",
        "    # Create filter for user documents\n",
        "    filter_criteria = VectorFilter(\n",
        "        user_id=test_user_id,\n",
        "        document_id=test_document_id\n",
        "    )\n",
        "    \n",
        "    # Retrieve vectors\n",
        "    vectors = await vector_tool.get_vectors_by_filter(filter_criteria)\n",
        "    \n",
        "    print(f\"✅ Retrieved {len(vectors)} vector chunks\")\n",
        "    print(f\"📊 Vector dimensions: {len(vectors[0].content_embedding) if vectors else 'N/A'}\")\n",
        "    \n",
        "    # Show first chunk info\n",
        "    if vectors:\n",
        "        first_chunk = vectors[0]\n",
        "        print(f\"📄 First chunk preview:\")\n",
        "        print(f\"   Chunk index: {first_chunk.chunk_index}\")\n",
        "        print(f\"   Content: {first_chunk.chunk_text[:100] if first_chunk.chunk_text else '[ENCRYPTED]'}...\")\n",
        "    \n",
        "except Exception as e:\n",
        "    print(f\"❌ Vector retrieval failed: {str(e)}\")\n",
        "    vectors = []  # Set empty for mock mode\n"
      ]
    },
    {
      "cell_type": "markdown",
      "metadata": {
        "vscode": {
          "languageId": "raw"
        }
      },
      "source": [
        "## 2. 🤖 Document-Aware Agent Creation\n"
      ]
    },
    {
      "cell_type": "code",
      "execution_count": 5,
      "metadata": {},
      "outputs": [
        {
          "name": "stdout",
          "output_type": "stream",
          "text": [
            "=== 🤖 Creating Document-Aware Agent ===\n",
            "✅ Document-aware schema defined\n"
          ]
        }
      ],
      "source": [
        "# 2.1 Define schema for document-aware responses\n",
        "print(\"=== 🤖 Creating Document-Aware Agent ===\")\n",
        "\n",
        "class DocumentAwareResponse(BaseModel):\n",
        "    \"\"\"Schema for document-aware agent responses\"\"\"\n",
        "    response: str = Field(description=\"Main response using document context\")\n",
        "    document_citations: List[str] = Field(description=\"Document sections referenced\")\n",
        "    confidence: float = Field(description=\"Confidence score\", ge=0.0, le=1.0)\n",
        "    context_quality: str = Field(description=\"Quality of document context: excellent, good, limited, none\")\n",
        "    suggestions: List[str] = Field(description=\"Additional suggestions based on documents\")\n",
        "    metadata: Dict[str, Any] = Field(default_factory=dict, description=\"Response metadata\")\n",
        "\n",
        "print(\"✅ Document-aware schema defined\")\n"
      ]
    },
    {
      "cell_type": "code",
      "execution_count": 8,
      "metadata": {},
      "outputs": [
        {
          "name": "stdout",
          "output_type": "stream",
          "text": [
            "✅ Document-aware agent factory created\n"
          ]
        }
      ],
      "source": [
        "# 2.2 Create document-aware agent function\n",
        "def create_document_aware_agent(user_id: str, document_id: Optional[str] = None):\n",
        "    \"\"\"Create an agent that uses document context for responses\"\"\"\n",
        "    \n",
        "    async def document_aware_agent(user_input: str) -> DocumentAwareResponse:\n",
        "        \"\"\"Agent that retrieves document context and provides informed responses\"\"\"\n",
        "        \n",
        "        # Step 1: Retrieve document context\n",
        "        document_context = \"No documents available for context.\"\n",
        "        context_quality = \"none\"\n",
        "        citations = []\n",
        "        \n",
        "        try:\n",
        "            # Create filter for user's documents\n",
        "            filter_criteria = VectorFilter(user_id=user_id)\n",
        "            if document_id:\n",
        "                filter_criteria.document_id = document_id\n",
        "            \n",
        "                                      # Retrieve relevant vectors\n",
        "            vectors = await vector_tool.get_vectors_by_filter(filter_criteria)\n",
        "            \n",
        "            if vectors:\n",
        "                # Extract text content\n",
        "                document_text = vector_tool.get_text_content(vectors)\n",
        "                document_summary = vector_tool.get_metadata_summary(vectors)\n",
        "                \n",
        "                context_quality = \"excellent\" if len(vectors) > 50 else \"good\" if len(vectors) > 10 else \"limited\"\n",
        "                citations = [f\"Document section {v.chunk_index}\" for v in vectors[:3]]\n",
        "            \n",
        "        except Exception as e:\n",
        "            logger.error(f\"Failed to retrieve document context: {e}\")\n",
        "            context_quality = \"none\"\n",
        "        \n",
        "        # Step 2: Generate response with context (mock for demo)\n",
        "        if context_quality != \"none\":\n",
        "            response_text = f\"Based on your uploaded documents, I can provide specific guidance for: {user_input}. Your policy includes relevant coverage options that I can reference.\"\n",
        "            suggestions = [\n",
        "                \"Review your specific policy benefits section\",\n",
        "                \"Check provider network details in your documents\",\n",
        "                \"Consider the copay structure outlined in your plan\"\n",
        "            ]\n",
        "            confidence = 0.9\n",
        "        else:\n",
        "            response_text = f\"I can provide general guidance for: {user_input}. For personalized advice, please upload your insurance documents.\"\n",
        "            suggestions = [\n",
        "                \"Upload your insurance policy documents\",\n",
        "                \"Contact your insurance provider directly\",\n",
        "                \"Review general healthcare options\"\n",
        "            ]\n",
        "            confidence = 0.6\n",
        "        \n",
        "        return DocumentAwareResponse(\n",
        "            response=response_text,\n",
        "            document_citations=citations,\n",
        "            confidence=confidence,\n",
        "            context_quality=context_quality,\n",
        "            suggestions=suggestions,\n",
        "            metadata={\n",
        "                \"user_id\": user_id,\n",
        "                \"document_id\": document_id,\n",
        "                \"vectors_found\": len(vectors) if 'vectors' in locals() else 0,\n",
        "                \"query_type\": \"document_aware\"\n",
        "            }\n",
        "        )\n",
        "    \n",
        "    return document_aware_agent\n",
        "\n",
        "print(\"✅ Document-aware agent factory created\")\n"
      ]
    },
    {
      "cell_type": "markdown",
      "metadata": {
        "vscode": {
          "languageId": "raw"
        }
      },
      "source": [
        "## 3. 🧪 Testing Document-Aware Responses\n"
      ]
    },
    {
      "cell_type": "code",
      "execution_count": 9,
      "metadata": {},
      "outputs": [
        {
          "name": "stderr",
          "output_type": "stream",
          "text": [
            "2025-06-23 18:43:35,920 - INFO - Executing query: \n",
            "                SELECT \n",
            "                    id,\n",
            "                    encrypted_chunk_text,\n",
            "                    encrypted_chunk_metadata,\n",
            "                    content_embedding,\n",
            "                    chunk_index,\n",
            "                    document_source_type,\n",
            "                    user_id,\n",
            "                    document_record_id,\n",
            "                    regulatory_document_id,\n",
            "                    encryption_key_id\n",
            "                FROM document_vectors\n",
            "                WHERE is_active = $1 AND user_id = $2 AND document_id = $3\n",
            "                ORDER BY chunk_index ASC\n",
            "                LIMIT $4\n",
            "            \n",
            "2025-06-23 18:43:35,920 - INFO - With parameters: [True, UUID('d64bfbbe-ff7f-4b51-b220-a0fa20756d9d'), UUID('d64bfbbe-ff7f-4b51-b220-a0fa20756d9d'), 1000]\n"
          ]
        },
        {
          "name": "stdout",
          "output_type": "stream",
          "text": [
            "=== 🧪 Testing Document-Aware Agent ===\n",
            "\n",
            "🔍 Testing with user who has documents:\n",
            "\n",
            "--- Test 1: I need to find a cardiologist. What does my insurance cover? ---\n"
          ]
        },
        {
          "name": "stderr",
          "output_type": "stream",
          "text": [
            "2025-06-23 18:43:36,980 - INFO - Retrieved 187 vector results\n",
            "2025-06-23 18:43:36,993 - INFO - Executing query: \n",
            "                SELECT \n",
            "                    id,\n",
            "                    encrypted_chunk_text,\n",
            "                    encrypted_chunk_metadata,\n",
            "                    content_embedding,\n",
            "                    chunk_index,\n",
            "                    document_source_type,\n",
            "                    user_id,\n",
            "                    document_record_id,\n",
            "                    regulatory_document_id,\n",
            "                    encryption_key_id\n",
            "                FROM document_vectors\n",
            "                WHERE is_active = $1 AND user_id = $2 AND document_id = $3\n",
            "                ORDER BY chunk_index ASC\n",
            "                LIMIT $4\n",
            "            \n",
            "2025-06-23 18:43:36,994 - INFO - With parameters: [True, UUID('d64bfbbe-ff7f-4b51-b220-a0fa20756d9d'), UUID('d64bfbbe-ff7f-4b51-b220-a0fa20756d9d'), 1000]\n"
          ]
        },
        {
          "name": "stdout",
          "output_type": "stream",
          "text": [
            "📝 Response: Based on your uploaded documents, I can provide specific guidance for: I need to find a cardiologist. What does my insurance cover?. Your policy includes relevant coverage options that I can reference.\n",
            "📚 Citations: ['Document section 0', 'Document section 0', 'Document section 0']\n",
            "🎯 Confidence: 0.9\n",
            "📊 Context Quality: excellent\n",
            "💡 Suggestions: Review your specific policy benefits section\n",
            "\n",
            "--- Test 2: What are my prescription drug benefits? ---\n"
          ]
        },
        {
          "name": "stderr",
          "output_type": "stream",
          "text": [
            "2025-06-23 18:43:38,016 - INFO - Retrieved 187 vector results\n",
            "2025-06-23 18:43:38,027 - INFO - Executing query: \n",
            "                SELECT \n",
            "                    id,\n",
            "                    encrypted_chunk_text,\n",
            "                    encrypted_chunk_metadata,\n",
            "                    content_embedding,\n",
            "                    chunk_index,\n",
            "                    document_source_type,\n",
            "                    user_id,\n",
            "                    document_record_id,\n",
            "                    regulatory_document_id,\n",
            "                    encryption_key_id\n",
            "                FROM document_vectors\n",
            "                WHERE is_active = $1 AND user_id = $2 AND document_id = $3\n",
            "                ORDER BY chunk_index ASC\n",
            "                LIMIT $4\n",
            "            \n",
            "2025-06-23 18:43:38,027 - INFO - With parameters: [True, UUID('d64bfbbe-ff7f-4b51-b220-a0fa20756d9d'), UUID('d64bfbbe-ff7f-4b51-b220-a0fa20756d9d'), 1000]\n"
          ]
        },
        {
          "name": "stdout",
          "output_type": "stream",
          "text": [
            "📝 Response: Based on your uploaded documents, I can provide specific guidance for: What are my prescription drug benefits?. Your policy includes relevant coverage options that I can reference.\n",
            "📚 Citations: ['Document section 0', 'Document section 0', 'Document section 0']\n",
            "🎯 Confidence: 0.9\n",
            "📊 Context Quality: excellent\n",
            "💡 Suggestions: Review your specific policy benefits section\n",
            "\n",
            "--- Test 3: Do I need a referral to see a specialist? ---\n"
          ]
        },
        {
          "name": "stderr",
          "output_type": "stream",
          "text": [
            "2025-06-23 18:43:38,388 - INFO - Retrieved 187 vector results\n"
          ]
        },
        {
          "name": "stdout",
          "output_type": "stream",
          "text": [
            "📝 Response: Based on your uploaded documents, I can provide specific guidance for: Do I need a referral to see a specialist?. Your policy includes relevant coverage options that I can reference.\n",
            "📚 Citations: ['Document section 0', 'Document section 0', 'Document section 0']\n",
            "🎯 Confidence: 0.9\n",
            "📊 Context Quality: excellent\n",
            "💡 Suggestions: Review your specific policy benefits section\n"
          ]
        }
      ],
      "source": [
        "# 3.1 Test with user who has documents\n",
        "print(\"=== 🧪 Testing Document-Aware Agent ===\")\n",
        "\n",
        "# Create agent for user with documents\n",
        "agent_with_docs = create_document_aware_agent(\n",
        "    user_id=test_user_id, \n",
        "    document_id=test_document_id\n",
        ")\n",
        "\n",
        "# Test queries\n",
        "test_queries = [\n",
        "    \"I need to find a cardiologist. What does my insurance cover?\",\n",
        "    \"What are my prescription drug benefits?\",\n",
        "    \"Do I need a referral to see a specialist?\"\n",
        "]\n",
        "\n",
        "print(f\"\\n🔍 Testing with user who has documents:\")\n",
        "for i, query in enumerate(test_queries, 1):\n",
        "    print(f\"\\n--- Test {i}: {query} ---\")\n",
        "    \n",
        "    try:\n",
        "        result = await agent_with_docs(query)\n",
        "        \n",
        "        print(f\"📝 Response: {result.response}\")\n",
        "        print(f\"📚 Citations: {result.document_citations}\")\n",
        "        print(f\"🎯 Confidence: {result.confidence}\")\n",
        "        print(f\"📊 Context Quality: {result.context_quality}\")\n",
        "        print(f\"💡 Suggestions: {result.suggestions[0] if result.suggestions else 'None'}\")\n",
        "        \n",
        "    except Exception as e:\n",
        "        print(f\"❌ Test failed: {str(e)}\")\n"
      ]
    },
    {
      "cell_type": "code",
      "execution_count": null,
      "metadata": {},
      "outputs": [],
      "source": [
        "# 3.2 Test with user who has no documents\n",
        "print(f\"\\n🔍 Testing with user who has no documents:\")\n",
        "\n",
        "# Create agent for user without documents\n",
        "agent_no_docs = create_document_aware_agent(user_id=\"no-documents-user-id\")\n",
        "\n",
        "# Test same query\n",
        "test_query = \"I need to find a cardiologist. What does my insurance cover?\"\n",
        "print(f\"\\n--- Query: {test_query} ---\")\n",
        "\n",
        "try:\n",
        "    result = await agent_no_docs(test_query)\n",
        "    \n",
        "    print(f\"📝 Response: {result.response}\")\n",
        "    print(f\"📚 Citations: {result.document_citations}\")\n",
        "    print(f\"🎯 Confidence: {result.confidence}\")\n",
        "    print(f\"📊 Context Quality: {result.context_quality}\")\n",
        "    print(f\"💡 Suggestions: {result.suggestions}\")\n",
        "    \n",
        "except Exception as e:\n",
        "    print(f\"❌ Test failed: {str(e)}\")\n"
      ]
    },
    {
      "cell_type": "raw",
      "metadata": {
        "vscode": {
          "languageId": "raw"
        }
      },
      "source": [
        "## 4. 📋 Summary and Best Practices\n",
        "\n",
        "### ✅ What We Demonstrated\n",
        "\n",
        "1. **Vector Tool Integration**: Successfully connected to Supabase and retrieved document vectors\n",
        "2. **Document-Aware Agents**: Created agents that adapt responses based on document availability\n",
        "3. **Context Quality Assessment**: Implemented logic to assess and respond to document context quality\n",
        "4. **Practical Healthcare Scenarios**: Demonstrated real-world use cases for document-aware responses\n",
        "\n",
        "### 🎯 Key Integration Patterns\n",
        "\n",
        "- **Graceful Degradation**: Agents provide useful responses even when documents are unavailable\n",
        "- **Context-Aware Confidence**: Confidence scores reflect document availability and quality\n",
        "- **Citation Support**: Responses include references to specific document sections\n",
        "- **Error Handling**: Robust handling of vector retrieval failures\n",
        "\n",
        "### 🚀 Next Steps\n",
        "\n",
        "- Integrate with actual LLM models for production responses\n",
        "- Implement semantic search for more relevant vector retrieval\n",
        "- Add document upload and processing workflows\n",
        "- Create specialized agents for different healthcare domains\n"
      ]
    }
  ],
  "metadata": {
    "kernelspec": {
      "display_name": ".venv",
      "language": "python",
      "name": "python3"
    },
    "language_info": {
      "codemirror_mode": {
        "name": "ipython",
        "version": 3
      },
      "file_extension": ".py",
      "mimetype": "text/x-python",
      "name": "python",
      "nbconvert_exporter": "python",
      "pygments_lexer": "ipython3",
      "version": "3.11.11"
    }
  },
  "nbformat": 4,
  "nbformat_minor": 2
}
